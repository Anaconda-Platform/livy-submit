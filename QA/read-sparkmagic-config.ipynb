{
 "cells": [
  {
   "cell_type": "code",
   "execution_count": 17,
   "metadata": {},
   "outputs": [],
   "source": [
    "def get_from_sparkmagic_config(config_path):\n",
    "    with open(config_path, 'r') as f:\n",
    "        cfg = json.loads(f.read())\n",
    "    spark_config = cfg.get('session_configs')\n",
    "    livy_server = cfg.get('kernel_python_credentials', {}).get('url')\n",
    "    if livy_server is not None:\n",
    "        url, port = livy_server.rsplit(':', maxsplit=1)\n",
    "    else:\n",
    "        err_str = (\"'kernel_python_credentials' not found in sparkmagic \"\n",
    "                   \"configuration (%s). Unable to automatically determine \"\n",
    "                   \"the location of your Livy server\" % config_path)\n",
    "        print(err_str)\n",
    "        url, port = None, None\n",
    "\n",
    "    return {'spark_config': spark_config, 'livy_url': url, 'livy_port': port}"
   ]
  },
  {
   "cell_type": "code",
   "execution_count": 18,
   "metadata": {},
   "outputs": [],
   "source": [
    "config_path = './config.json'"
   ]
  },
  {
   "cell_type": "code",
   "execution_count": 19,
   "metadata": {},
   "outputs": [
    {
     "name": "stdout",
     "output_type": "stream",
     "text": [
      "'kernel_python_credentials' not found in sparkmagic configuration (./config.json). Unable to automatically determine the location of your Livy server\n"
     ]
    },
    {
     "data": {
      "text/plain": [
       "{'spark_config': {'driverMemory': '1000M', 'executorCores': 2},\n",
       " 'livy_url': None,\n",
       " 'livy_port': None}"
      ]
     },
     "execution_count": 19,
     "metadata": {},
     "output_type": "execute_result"
    }
   ],
   "source": [
    "get_from_sparkmagic_config(config_path)"
   ]
  },
  {
   "cell_type": "code",
   "execution_count": 30,
   "metadata": {},
   "outputs": [],
   "source": [
    "def load_livy_config(config_path):\n",
    "    with open(config_path, 'r') as f:\n",
    "        cfg = json.loads(f.read())\n",
    "    return cfg"
   ]
  },
  {
   "cell_type": "code",
   "execution_count": 35,
   "metadata": {},
   "outputs": [
    {
     "data": {
      "text/plain": [
       "{'namenode_url': 'ip-172-31-20-241.ec2.internal',\n",
       " 'namenode_port': 50070,\n",
       " 'livy_url': 'ip-172-31-20-241.ec2.internal',\n",
       " 'livy_port': 8998,\n",
       " 'use_tls': 'False',\n",
       " 'driverMemory': '4g',\n",
       " 'driverCores': 2,\n",
       " 'executorMemory': '2g',\n",
       " 'executorCores': 1,\n",
       " 'conf': 'spark.pyspark.python'}"
      ]
     },
     "execution_count": 35,
     "metadata": {},
     "output_type": "execute_result"
    }
   ],
   "source": [
    "load_livy_config('livy-submit.json')"
   ]
  }
 ],
 "metadata": {
  "kernelspec": {
   "display_name": "livy-submit [py3]",
   "language": "python",
   "name": "livy-submit"
  },
  "language_info": {
   "codemirror_mode": {
    "name": "ipython",
    "version": 3
   },
   "file_extension": ".py",
   "mimetype": "text/x-python",
   "name": "python",
   "nbconvert_exporter": "python",
   "pygments_lexer": "ipython3",
   "version": "3.7.1"
  }
 },
 "nbformat": 4,
 "nbformat_minor": 2
}
